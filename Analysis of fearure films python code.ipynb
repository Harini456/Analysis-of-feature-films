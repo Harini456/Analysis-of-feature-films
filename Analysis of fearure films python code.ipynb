{
 "cells": [
  {
   "cell_type": "code",
   "execution_count": 1,
   "metadata": {},
   "outputs": [],
   "source": [
    "import pandas as pd\n",
    "from matplotlib import pyplot as plt\n",
    "import seaborn as sns\n",
    "import numpy as np"
   ]
  },
  {
   "cell_type": "code",
   "execution_count": 4,
   "metadata": {},
   "outputs": [],
   "source": [
    "df= pd.read_csv('D:/Harini(christ unniversity)/2nd sem subjects/Machine Learning/product.csv',encoding= 'unicode_escape')"
   ]
  },
  {
   "cell_type": "code",
   "execution_count": 5,
   "metadata": {},
   "outputs": [
    {
     "data": {
      "text/html": [
       "<div>\n",
       "<style scoped>\n",
       "    .dataframe tbody tr th:only-of-type {\n",
       "        vertical-align: middle;\n",
       "    }\n",
       "\n",
       "    .dataframe tbody tr th {\n",
       "        vertical-align: top;\n",
       "    }\n",
       "\n",
       "    .dataframe thead th {\n",
       "        text-align: right;\n",
       "    }\n",
       "</style>\n",
       "<table border=\"1\" class=\"dataframe\">\n",
       "  <thead>\n",
       "    <tr style=\"text-align: right;\">\n",
       "      <th></th>\n",
       "      <th>Unnamed: 0</th>\n",
       "      <th>Rank</th>\n",
       "      <th>Title</th>\n",
       "      <th>Description</th>\n",
       "      <th>Runtime</th>\n",
       "      <th>Genre</th>\n",
       "      <th>Rating</th>\n",
       "      <th>Metascore</th>\n",
       "      <th>Votes</th>\n",
       "      <th>Gross_Earning_in_Mil</th>\n",
       "      <th>Director</th>\n",
       "      <th>Actor</th>\n",
       "    </tr>\n",
       "  </thead>\n",
       "  <tbody>\n",
       "    <tr>\n",
       "      <th>0</th>\n",
       "      <td>1</td>\n",
       "      <td>1</td>\n",
       "      <td>Batman v Superman: Dawn of Justice</td>\n",
       "      <td>Fearing that the actions of Superman are l...</td>\n",
       "      <td>152</td>\n",
       "      <td>Action</td>\n",
       "      <td>6.4</td>\n",
       "      <td>44.0</td>\n",
       "      <td>640076</td>\n",
       "      <td>330.30</td>\n",
       "      <td>Zack Snyder</td>\n",
       "      <td>Ben Affleck</td>\n",
       "    </tr>\n",
       "    <tr>\n",
       "      <th>1</th>\n",
       "      <td>2</td>\n",
       "      <td>2</td>\n",
       "      <td>Suicide Squad</td>\n",
       "      <td>A secret government agency recruits some o...</td>\n",
       "      <td>123</td>\n",
       "      <td>Action</td>\n",
       "      <td>6.0</td>\n",
       "      <td>40.0</td>\n",
       "      <td>609928</td>\n",
       "      <td>325.10</td>\n",
       "      <td>David Ayer</td>\n",
       "      <td>Will Smith</td>\n",
       "    </tr>\n",
       "    <tr>\n",
       "      <th>2</th>\n",
       "      <td>3</td>\n",
       "      <td>3</td>\n",
       "      <td>Captain America: Civil War</td>\n",
       "      <td>Political involvement in the Avengers' aff...</td>\n",
       "      <td>147</td>\n",
       "      <td>Action</td>\n",
       "      <td>7.8</td>\n",
       "      <td>75.0</td>\n",
       "      <td>674499</td>\n",
       "      <td>408.00</td>\n",
       "      <td>Anthony Russo</td>\n",
       "      <td>Chris Evans</td>\n",
       "    </tr>\n",
       "    <tr>\n",
       "      <th>3</th>\n",
       "      <td>4</td>\n",
       "      <td>4</td>\n",
       "      <td>Captain Fantastic</td>\n",
       "      <td>In the forests of the Pacific Northwest, a...</td>\n",
       "      <td>118</td>\n",
       "      <td>Comedy</td>\n",
       "      <td>7.9</td>\n",
       "      <td>72.0</td>\n",
       "      <td>193920</td>\n",
       "      <td>5.88</td>\n",
       "      <td>Matt Ross</td>\n",
       "      <td>Viggo Mortensen</td>\n",
       "    </tr>\n",
       "    <tr>\n",
       "      <th>4</th>\n",
       "      <td>5</td>\n",
       "      <td>5</td>\n",
       "      <td>Deadpool</td>\n",
       "      <td>A wisecracking mercenary gets experimented...</td>\n",
       "      <td>108</td>\n",
       "      <td>Action</td>\n",
       "      <td>8.0</td>\n",
       "      <td>65.0</td>\n",
       "      <td>912563</td>\n",
       "      <td>363.00</td>\n",
       "      <td>Tim Miller</td>\n",
       "      <td>Ryan Reynolds</td>\n",
       "    </tr>\n",
       "  </tbody>\n",
       "</table>\n",
       "</div>"
      ],
      "text/plain": [
       "   Unnamed: 0  Rank                               Title  \\\n",
       "0           1     1  Batman v Superman: Dawn of Justice   \n",
       "1           2     2                       Suicide Squad   \n",
       "2           3     3          Captain America: Civil War   \n",
       "3           4     4                   Captain Fantastic   \n",
       "4           5     5                            Deadpool   \n",
       "\n",
       "                                         Description  Runtime   Genre  Rating  \\\n",
       "0      Fearing that the actions of Superman are l...      152  Action     6.4   \n",
       "1      A secret government agency recruits some o...      123  Action     6.0   \n",
       "2      Political involvement in the Avengers' aff...      147  Action     7.8   \n",
       "3      In the forests of the Pacific Northwest, a...      118  Comedy     7.9   \n",
       "4      A wisecracking mercenary gets experimented...      108  Action     8.0   \n",
       "\n",
       "   Metascore   Votes  Gross_Earning_in_Mil       Director            Actor  \n",
       "0       44.0  640076                330.30    Zack Snyder      Ben Affleck  \n",
       "1       40.0  609928                325.10     David Ayer       Will Smith  \n",
       "2       75.0  674499                408.00  Anthony Russo      Chris Evans  \n",
       "3       72.0  193920                  5.88      Matt Ross  Viggo Mortensen  \n",
       "4       65.0  912563                363.00     Tim Miller    Ryan Reynolds  "
      ]
     },
     "execution_count": 5,
     "metadata": {},
     "output_type": "execute_result"
    }
   ],
   "source": [
    "df.head()"
   ]
  },
  {
   "cell_type": "code",
   "execution_count": 6,
   "metadata": {},
   "outputs": [
    {
     "data": {
      "text/plain": [
       "(100, 12)"
      ]
     },
     "execution_count": 6,
     "metadata": {},
     "output_type": "execute_result"
    }
   ],
   "source": [
    "df.shape"
   ]
  },
  {
   "cell_type": "markdown",
   "metadata": {},
   "source": [
    "The dataset contians 12 features and 100 observations"
   ]
  },
  {
   "cell_type": "code",
   "execution_count": 7,
   "metadata": {},
   "outputs": [
    {
     "name": "stdout",
     "output_type": "stream",
     "text": [
      "<class 'pandas.core.frame.DataFrame'>\n",
      "RangeIndex: 100 entries, 0 to 99\n",
      "Data columns (total 12 columns):\n",
      " #   Column                Non-Null Count  Dtype  \n",
      "---  ------                --------------  -----  \n",
      " 0   Unnamed: 0            100 non-null    int64  \n",
      " 1   Rank                  100 non-null    int64  \n",
      " 2   Title                 100 non-null    object \n",
      " 3   Description           100 non-null    object \n",
      " 4   Runtime               100 non-null    int64  \n",
      " 5   Genre                 100 non-null    object \n",
      " 6   Rating                100 non-null    float64\n",
      " 7   Metascore             98 non-null     float64\n",
      " 8   Votes                 100 non-null    int64  \n",
      " 9   Gross_Earning_in_Mil  93 non-null     float64\n",
      " 10  Director              100 non-null    object \n",
      " 11  Actor                 100 non-null    object \n",
      "dtypes: float64(3), int64(4), object(5)\n",
      "memory usage: 9.5+ KB\n"
     ]
    }
   ],
   "source": [
    "df.info()"
   ]
  },
  {
   "cell_type": "code",
   "execution_count": 8,
   "metadata": {},
   "outputs": [
    {
     "name": "stdout",
     "output_type": "stream",
     "text": [
      "Column names : ['Unnamed: 0', 'Rank', 'Title', 'Description', 'Runtime', 'Genre', 'Rating', 'Metascore', 'Votes', 'Gross_Earning_in_Mil', 'Director', 'Actor']\n"
     ]
    }
   ],
   "source": [
    "print(\"Column names :\",list(df.columns))"
   ]
  },
  {
   "cell_type": "markdown",
   "metadata": {},
   "source": [
    "# Checking if any missing values"
   ]
  },
  {
   "cell_type": "code",
   "execution_count": 9,
   "metadata": {},
   "outputs": [
    {
     "data": {
      "text/plain": [
       "Unnamed: 0              False\n",
       "Rank                    False\n",
       "Title                   False\n",
       "Description             False\n",
       "Runtime                 False\n",
       "Genre                   False\n",
       "Rating                  False\n",
       "Metascore                True\n",
       "Votes                   False\n",
       "Gross_Earning_in_Mil     True\n",
       "Director                False\n",
       "Actor                   False\n",
       "dtype: bool"
      ]
     },
     "execution_count": 9,
     "metadata": {},
     "output_type": "execute_result"
    }
   ],
   "source": [
    "df.isna().any()"
   ]
  },
  {
   "cell_type": "code",
   "execution_count": 10,
   "metadata": {},
   "outputs": [
    {
     "data": {
      "text/plain": [
       "Unnamed: 0              0\n",
       "Rank                    0\n",
       "Title                   0\n",
       "Description             0\n",
       "Runtime                 0\n",
       "Genre                   0\n",
       "Rating                  0\n",
       "Metascore               2\n",
       "Votes                   0\n",
       "Gross_Earning_in_Mil    7\n",
       "Director                0\n",
       "Actor                   0\n",
       "dtype: int64"
      ]
     },
     "execution_count": 10,
     "metadata": {},
     "output_type": "execute_result"
    }
   ],
   "source": [
    "df.isna().sum()"
   ]
  },
  {
   "cell_type": "markdown",
   "metadata": {},
   "source": [
    "columns meatscore and gross earning are having missing values"
   ]
  },
  {
   "cell_type": "code",
   "execution_count": 11,
   "metadata": {},
   "outputs": [],
   "source": [
    "df = df.dropna()"
   ]
  },
  {
   "cell_type": "markdown",
   "metadata": {},
   "source": [
    "dropping the rows contaning missing values"
   ]
  },
  {
   "cell_type": "code",
   "execution_count": 12,
   "metadata": {},
   "outputs": [
    {
     "data": {
      "text/plain": [
       "Unnamed: 0              0\n",
       "Rank                    0\n",
       "Title                   0\n",
       "Description             0\n",
       "Runtime                 0\n",
       "Genre                   0\n",
       "Rating                  0\n",
       "Metascore               0\n",
       "Votes                   0\n",
       "Gross_Earning_in_Mil    0\n",
       "Director                0\n",
       "Actor                   0\n",
       "dtype: int64"
      ]
     },
     "execution_count": 12,
     "metadata": {},
     "output_type": "execute_result"
    }
   ],
   "source": [
    "df.isna().sum()"
   ]
  },
  {
   "cell_type": "code",
   "execution_count": 13,
   "metadata": {},
   "outputs": [
    {
     "data": {
      "text/plain": [
       "(92, 12)"
      ]
     },
     "execution_count": 13,
     "metadata": {},
     "output_type": "execute_result"
    }
   ],
   "source": [
    "df.shape"
   ]
  },
  {
   "cell_type": "code",
   "execution_count": 14,
   "metadata": {},
   "outputs": [],
   "source": [
    "df.to_csv('products1.csv', index=True, encoding='utf-8')"
   ]
  },
  {
   "cell_type": "markdown",
   "metadata": {},
   "source": [
    "saving the cleaned dataset as prodcut1.csv"
   ]
  },
  {
   "cell_type": "code",
   "execution_count": 15,
   "metadata": {},
   "outputs": [],
   "source": [
    "df=pd.read_csv(\"D:/Harini(christ unniversity)/2nd sem subjects/Machine Learning/products1.csv\")"
   ]
  },
  {
   "cell_type": "code",
   "execution_count": 16,
   "metadata": {},
   "outputs": [
    {
     "data": {
      "text/html": [
       "<div>\n",
       "<style scoped>\n",
       "    .dataframe tbody tr th:only-of-type {\n",
       "        vertical-align: middle;\n",
       "    }\n",
       "\n",
       "    .dataframe tbody tr th {\n",
       "        vertical-align: top;\n",
       "    }\n",
       "\n",
       "    .dataframe thead th {\n",
       "        text-align: right;\n",
       "    }\n",
       "</style>\n",
       "<table border=\"1\" class=\"dataframe\">\n",
       "  <thead>\n",
       "    <tr style=\"text-align: right;\">\n",
       "      <th></th>\n",
       "      <th>Unnamed: 0</th>\n",
       "      <th>Unnamed: 0.1</th>\n",
       "      <th>Rank</th>\n",
       "      <th>Title</th>\n",
       "      <th>Description</th>\n",
       "      <th>Runtime</th>\n",
       "      <th>Genre</th>\n",
       "      <th>Rating</th>\n",
       "      <th>Metascore</th>\n",
       "      <th>Votes</th>\n",
       "      <th>Gross_Earning_in_Mil</th>\n",
       "      <th>Director</th>\n",
       "      <th>Actor</th>\n",
       "    </tr>\n",
       "  </thead>\n",
       "  <tbody>\n",
       "    <tr>\n",
       "      <th>0</th>\n",
       "      <td>0</td>\n",
       "      <td>1</td>\n",
       "      <td>1</td>\n",
       "      <td>Batman v Superman: Dawn of Justice</td>\n",
       "      <td>Fearing that the actions of Superman are l...</td>\n",
       "      <td>152</td>\n",
       "      <td>Action</td>\n",
       "      <td>6.4</td>\n",
       "      <td>44.0</td>\n",
       "      <td>640076</td>\n",
       "      <td>330.30</td>\n",
       "      <td>Zack Snyder</td>\n",
       "      <td>Ben Affleck</td>\n",
       "    </tr>\n",
       "    <tr>\n",
       "      <th>1</th>\n",
       "      <td>1</td>\n",
       "      <td>2</td>\n",
       "      <td>2</td>\n",
       "      <td>Suicide Squad</td>\n",
       "      <td>A secret government agency recruits some o...</td>\n",
       "      <td>123</td>\n",
       "      <td>Action</td>\n",
       "      <td>6.0</td>\n",
       "      <td>40.0</td>\n",
       "      <td>609928</td>\n",
       "      <td>325.10</td>\n",
       "      <td>David Ayer</td>\n",
       "      <td>Will Smith</td>\n",
       "    </tr>\n",
       "    <tr>\n",
       "      <th>2</th>\n",
       "      <td>2</td>\n",
       "      <td>3</td>\n",
       "      <td>3</td>\n",
       "      <td>Captain America: Civil War</td>\n",
       "      <td>Political involvement in the Avengers' aff...</td>\n",
       "      <td>147</td>\n",
       "      <td>Action</td>\n",
       "      <td>7.8</td>\n",
       "      <td>75.0</td>\n",
       "      <td>674499</td>\n",
       "      <td>408.00</td>\n",
       "      <td>Anthony Russo</td>\n",
       "      <td>Chris Evans</td>\n",
       "    </tr>\n",
       "    <tr>\n",
       "      <th>3</th>\n",
       "      <td>3</td>\n",
       "      <td>4</td>\n",
       "      <td>4</td>\n",
       "      <td>Captain Fantastic</td>\n",
       "      <td>In the forests of the Pacific Northwest, a...</td>\n",
       "      <td>118</td>\n",
       "      <td>Comedy</td>\n",
       "      <td>7.9</td>\n",
       "      <td>72.0</td>\n",
       "      <td>193920</td>\n",
       "      <td>5.88</td>\n",
       "      <td>Matt Ross</td>\n",
       "      <td>Viggo Mortensen</td>\n",
       "    </tr>\n",
       "    <tr>\n",
       "      <th>4</th>\n",
       "      <td>4</td>\n",
       "      <td>5</td>\n",
       "      <td>5</td>\n",
       "      <td>Deadpool</td>\n",
       "      <td>A wisecracking mercenary gets experimented...</td>\n",
       "      <td>108</td>\n",
       "      <td>Action</td>\n",
       "      <td>8.0</td>\n",
       "      <td>65.0</td>\n",
       "      <td>912563</td>\n",
       "      <td>363.00</td>\n",
       "      <td>Tim Miller</td>\n",
       "      <td>Ryan Reynolds</td>\n",
       "    </tr>\n",
       "  </tbody>\n",
       "</table>\n",
       "</div>"
      ],
      "text/plain": [
       "   Unnamed: 0  Unnamed: 0.1  Rank                               Title  \\\n",
       "0           0             1     1  Batman v Superman: Dawn of Justice   \n",
       "1           1             2     2                       Suicide Squad   \n",
       "2           2             3     3          Captain America: Civil War   \n",
       "3           3             4     4                   Captain Fantastic   \n",
       "4           4             5     5                            Deadpool   \n",
       "\n",
       "                                         Description  Runtime   Genre  Rating  \\\n",
       "0      Fearing that the actions of Superman are l...      152  Action     6.4   \n",
       "1      A secret government agency recruits some o...      123  Action     6.0   \n",
       "2      Political involvement in the Avengers' aff...      147  Action     7.8   \n",
       "3      In the forests of the Pacific Northwest, a...      118  Comedy     7.9   \n",
       "4      A wisecracking mercenary gets experimented...      108  Action     8.0   \n",
       "\n",
       "   Metascore   Votes  Gross_Earning_in_Mil       Director            Actor  \n",
       "0       44.0  640076                330.30    Zack Snyder      Ben Affleck  \n",
       "1       40.0  609928                325.10     David Ayer       Will Smith  \n",
       "2       75.0  674499                408.00  Anthony Russo      Chris Evans  \n",
       "3       72.0  193920                  5.88      Matt Ross  Viggo Mortensen  \n",
       "4       65.0  912563                363.00     Tim Miller    Ryan Reynolds  "
      ]
     },
     "execution_count": 16,
     "metadata": {},
     "output_type": "execute_result"
    }
   ],
   "source": [
    "df.head()"
   ]
  },
  {
   "cell_type": "code",
   "execution_count": 17,
   "metadata": {},
   "outputs": [],
   "source": [
    "df.drop([\"Unnamed: 0\"],axis=1,inplace=True)\n",
    "df.drop([\"Unnamed: 0.1\"],axis=1,inplace=True)"
   ]
  },
  {
   "cell_type": "code",
   "execution_count": 18,
   "metadata": {},
   "outputs": [
    {
     "data": {
      "text/html": [
       "<div>\n",
       "<style scoped>\n",
       "    .dataframe tbody tr th:only-of-type {\n",
       "        vertical-align: middle;\n",
       "    }\n",
       "\n",
       "    .dataframe tbody tr th {\n",
       "        vertical-align: top;\n",
       "    }\n",
       "\n",
       "    .dataframe thead th {\n",
       "        text-align: right;\n",
       "    }\n",
       "</style>\n",
       "<table border=\"1\" class=\"dataframe\">\n",
       "  <thead>\n",
       "    <tr style=\"text-align: right;\">\n",
       "      <th></th>\n",
       "      <th>Rank</th>\n",
       "      <th>Title</th>\n",
       "      <th>Description</th>\n",
       "      <th>Runtime</th>\n",
       "      <th>Genre</th>\n",
       "      <th>Rating</th>\n",
       "      <th>Metascore</th>\n",
       "      <th>Votes</th>\n",
       "      <th>Gross_Earning_in_Mil</th>\n",
       "      <th>Director</th>\n",
       "      <th>Actor</th>\n",
       "    </tr>\n",
       "  </thead>\n",
       "  <tbody>\n",
       "    <tr>\n",
       "      <th>0</th>\n",
       "      <td>1</td>\n",
       "      <td>Batman v Superman: Dawn of Justice</td>\n",
       "      <td>Fearing that the actions of Superman are l...</td>\n",
       "      <td>152</td>\n",
       "      <td>Action</td>\n",
       "      <td>6.4</td>\n",
       "      <td>44.0</td>\n",
       "      <td>640076</td>\n",
       "      <td>330.30</td>\n",
       "      <td>Zack Snyder</td>\n",
       "      <td>Ben Affleck</td>\n",
       "    </tr>\n",
       "    <tr>\n",
       "      <th>1</th>\n",
       "      <td>2</td>\n",
       "      <td>Suicide Squad</td>\n",
       "      <td>A secret government agency recruits some o...</td>\n",
       "      <td>123</td>\n",
       "      <td>Action</td>\n",
       "      <td>6.0</td>\n",
       "      <td>40.0</td>\n",
       "      <td>609928</td>\n",
       "      <td>325.10</td>\n",
       "      <td>David Ayer</td>\n",
       "      <td>Will Smith</td>\n",
       "    </tr>\n",
       "    <tr>\n",
       "      <th>2</th>\n",
       "      <td>3</td>\n",
       "      <td>Captain America: Civil War</td>\n",
       "      <td>Political involvement in the Avengers' aff...</td>\n",
       "      <td>147</td>\n",
       "      <td>Action</td>\n",
       "      <td>7.8</td>\n",
       "      <td>75.0</td>\n",
       "      <td>674499</td>\n",
       "      <td>408.00</td>\n",
       "      <td>Anthony Russo</td>\n",
       "      <td>Chris Evans</td>\n",
       "    </tr>\n",
       "    <tr>\n",
       "      <th>3</th>\n",
       "      <td>4</td>\n",
       "      <td>Captain Fantastic</td>\n",
       "      <td>In the forests of the Pacific Northwest, a...</td>\n",
       "      <td>118</td>\n",
       "      <td>Comedy</td>\n",
       "      <td>7.9</td>\n",
       "      <td>72.0</td>\n",
       "      <td>193920</td>\n",
       "      <td>5.88</td>\n",
       "      <td>Matt Ross</td>\n",
       "      <td>Viggo Mortensen</td>\n",
       "    </tr>\n",
       "    <tr>\n",
       "      <th>4</th>\n",
       "      <td>5</td>\n",
       "      <td>Deadpool</td>\n",
       "      <td>A wisecracking mercenary gets experimented...</td>\n",
       "      <td>108</td>\n",
       "      <td>Action</td>\n",
       "      <td>8.0</td>\n",
       "      <td>65.0</td>\n",
       "      <td>912563</td>\n",
       "      <td>363.00</td>\n",
       "      <td>Tim Miller</td>\n",
       "      <td>Ryan Reynolds</td>\n",
       "    </tr>\n",
       "  </tbody>\n",
       "</table>\n",
       "</div>"
      ],
      "text/plain": [
       "   Rank                               Title  \\\n",
       "0     1  Batman v Superman: Dawn of Justice   \n",
       "1     2                       Suicide Squad   \n",
       "2     3          Captain America: Civil War   \n",
       "3     4                   Captain Fantastic   \n",
       "4     5                            Deadpool   \n",
       "\n",
       "                                         Description  Runtime   Genre  Rating  \\\n",
       "0      Fearing that the actions of Superman are l...      152  Action     6.4   \n",
       "1      A secret government agency recruits some o...      123  Action     6.0   \n",
       "2      Political involvement in the Avengers' aff...      147  Action     7.8   \n",
       "3      In the forests of the Pacific Northwest, a...      118  Comedy     7.9   \n",
       "4      A wisecracking mercenary gets experimented...      108  Action     8.0   \n",
       "\n",
       "   Metascore   Votes  Gross_Earning_in_Mil       Director            Actor  \n",
       "0       44.0  640076                330.30    Zack Snyder      Ben Affleck  \n",
       "1       40.0  609928                325.10     David Ayer       Will Smith  \n",
       "2       75.0  674499                408.00  Anthony Russo      Chris Evans  \n",
       "3       72.0  193920                  5.88      Matt Ross  Viggo Mortensen  \n",
       "4       65.0  912563                363.00     Tim Miller    Ryan Reynolds  "
      ]
     },
     "execution_count": 18,
     "metadata": {},
     "output_type": "execute_result"
    }
   ],
   "source": [
    "df.head()"
   ]
  },
  {
   "cell_type": "code",
   "execution_count": 19,
   "metadata": {},
   "outputs": [
    {
     "data": {
      "text/plain": [
       "(92, 11)"
      ]
     },
     "execution_count": 19,
     "metadata": {},
     "output_type": "execute_result"
    }
   ],
   "source": [
    "df.shape"
   ]
  },
  {
   "cell_type": "code",
   "execution_count": 20,
   "metadata": {
    "scrolled": true
   },
   "outputs": [
    {
     "data": {
      "text/html": [
       "<div>\n",
       "<style scoped>\n",
       "    .dataframe tbody tr th:only-of-type {\n",
       "        vertical-align: middle;\n",
       "    }\n",
       "\n",
       "    .dataframe tbody tr th {\n",
       "        vertical-align: top;\n",
       "    }\n",
       "\n",
       "    .dataframe thead th {\n",
       "        text-align: right;\n",
       "    }\n",
       "</style>\n",
       "<table border=\"1\" class=\"dataframe\">\n",
       "  <thead>\n",
       "    <tr style=\"text-align: right;\">\n",
       "      <th></th>\n",
       "      <th>Rank</th>\n",
       "      <th>Runtime</th>\n",
       "      <th>Rating</th>\n",
       "      <th>Metascore</th>\n",
       "      <th>Votes</th>\n",
       "      <th>Gross_Earning_in_Mil</th>\n",
       "    </tr>\n",
       "  </thead>\n",
       "  <tbody>\n",
       "    <tr>\n",
       "      <th>count</th>\n",
       "      <td>92.000000</td>\n",
       "      <td>92.000000</td>\n",
       "      <td>92.000000</td>\n",
       "      <td>92.000000</td>\n",
       "      <td>92.000000</td>\n",
       "      <td>92.000000</td>\n",
       "    </tr>\n",
       "    <tr>\n",
       "      <th>mean</th>\n",
       "      <td>50.358696</td>\n",
       "      <td>117.543478</td>\n",
       "      <td>6.861957</td>\n",
       "      <td>59.195652</td>\n",
       "      <td>193469.586957</td>\n",
       "      <td>89.778261</td>\n",
       "    </tr>\n",
       "    <tr>\n",
       "      <th>std</th>\n",
       "      <td>29.851862</td>\n",
       "      <td>16.902703</td>\n",
       "      <td>0.782479</td>\n",
       "      <td>18.316653</td>\n",
       "      <td>169501.456618</td>\n",
       "      <td>113.580434</td>\n",
       "    </tr>\n",
       "    <tr>\n",
       "      <th>min</th>\n",
       "      <td>1.000000</td>\n",
       "      <td>82.000000</td>\n",
       "      <td>5.200000</td>\n",
       "      <td>18.000000</td>\n",
       "      <td>10652.000000</td>\n",
       "      <td>0.180000</td>\n",
       "    </tr>\n",
       "    <tr>\n",
       "      <th>25%</th>\n",
       "      <td>24.750000</td>\n",
       "      <td>106.000000</td>\n",
       "      <td>6.200000</td>\n",
       "      <td>45.750000</td>\n",
       "      <td>82828.500000</td>\n",
       "      <td>13.900000</td>\n",
       "    </tr>\n",
       "    <tr>\n",
       "      <th>50%</th>\n",
       "      <td>49.000000</td>\n",
       "      <td>117.000000</td>\n",
       "      <td>7.000000</td>\n",
       "      <td>62.000000</td>\n",
       "      <td>141948.000000</td>\n",
       "      <td>47.535000</td>\n",
       "    </tr>\n",
       "    <tr>\n",
       "      <th>75%</th>\n",
       "      <td>77.250000</td>\n",
       "      <td>127.250000</td>\n",
       "      <td>7.400000</td>\n",
       "      <td>72.000000</td>\n",
       "      <td>233025.750000</td>\n",
       "      <td>105.625000</td>\n",
       "    </tr>\n",
       "    <tr>\n",
       "      <th>max</th>\n",
       "      <td>100.000000</td>\n",
       "      <td>162.000000</td>\n",
       "      <td>8.400000</td>\n",
       "      <td>99.000000</td>\n",
       "      <td>912563.000000</td>\n",
       "      <td>532.100000</td>\n",
       "    </tr>\n",
       "  </tbody>\n",
       "</table>\n",
       "</div>"
      ],
      "text/plain": [
       "             Rank     Runtime     Rating  Metascore          Votes  \\\n",
       "count   92.000000   92.000000  92.000000  92.000000      92.000000   \n",
       "mean    50.358696  117.543478   6.861957  59.195652  193469.586957   \n",
       "std     29.851862   16.902703   0.782479  18.316653  169501.456618   \n",
       "min      1.000000   82.000000   5.200000  18.000000   10652.000000   \n",
       "25%     24.750000  106.000000   6.200000  45.750000   82828.500000   \n",
       "50%     49.000000  117.000000   7.000000  62.000000  141948.000000   \n",
       "75%     77.250000  127.250000   7.400000  72.000000  233025.750000   \n",
       "max    100.000000  162.000000   8.400000  99.000000  912563.000000   \n",
       "\n",
       "       Gross_Earning_in_Mil  \n",
       "count             92.000000  \n",
       "mean              89.778261  \n",
       "std              113.580434  \n",
       "min                0.180000  \n",
       "25%               13.900000  \n",
       "50%               47.535000  \n",
       "75%              105.625000  \n",
       "max              532.100000  "
      ]
     },
     "execution_count": 20,
     "metadata": {},
     "output_type": "execute_result"
    }
   ],
   "source": [
    "df.describe()"
   ]
  },
  {
   "cell_type": "markdown",
   "metadata": {},
   "source": [
    "# Explotratory Data Analysis"
   ]
  },
  {
   "cell_type": "code",
   "execution_count": 21,
   "metadata": {},
   "outputs": [
    {
     "data": {
      "image/png": "[encoded data removed]",
      "text/plain": [
       "<Figure size 432x288 with 1 Axes>"
      ]
     },
     "metadata": {
      "needs_background": "light"
     },
     "output_type": "display_data"
    }
   ],
   "source": [
    "plt.hist(x=\"Genre\", data=df);\n",
    "plt.title('Genre');\n",
    "plt.ylabel('Count');\n",
    "plt.xlabel('Genre');"
   ]
  },
  {
   "cell_type": "markdown",
   "metadata": {},
   "source": [
    "People more prefor action movies"
   ]
  },
  {
   "cell_type": "code",
   "execution_count": 22,
   "metadata": {},
   "outputs": [
    {
     "data": {
      "text/plain": [
       "<AxesSubplot:xlabel='Genre', ylabel='Gross_Earning_in_Mil'>"
      ]
     },
     "execution_count": 22,
     "metadata": {},
     "output_type": "execute_result"
    },
    {
     "data": {
      "image/png": "[encoded data removed]",
      "text/plain": [
       "<Figure size 1008x504 with 1 Axes>"
      ]
     },
     "metadata": {},
     "output_type": "display_data"
    }
   ],
   "source": [
    "sns.set_style('whitegrid')\n",
    "plt.figure(figsize=(14,7))\n",
    "sns.barplot(x=df['Genre'],y=df['Gross_Earning_in_Mil'])"
   ]
  },
  {
   "cell_type": "markdown",
   "metadata": {},
   "source": [
    "we can have a clear idea that according to gross earnings, the crime rate movies have high importance in earnings compared to the other genres."
   ]
  },
  {
   "cell_type": "code",
   "execution_count": 23,
   "metadata": {},
   "outputs": [
    {
     "data": {
      "image/png": "[encoded data removed]",
      "text/plain": [
       "<Figure size 432x288 with 1 Axes>"
      ]
     },
     "metadata": {},
     "output_type": "display_data"
    }
   ],
   "source": [
    "plt.hist(x=\"Rating\", data=df);\n",
    "plt.title('Movie Ratings');\n",
    "plt.ylabel('Count');\n",
    "plt.xlabel('Rating');"
   ]
  },
  {
   "cell_type": "markdown",
   "metadata": {},
   "source": [
    "Most of the movies are rated between the frequency of 6.0 to 7.5"
   ]
  },
  {
   "cell_type": "code",
   "execution_count": 24,
   "metadata": {},
   "outputs": [
    {
     "data": {
      "text/plain": [
       "<AxesSubplot:xlabel='Genre', ylabel='Rating'>"
      ]
     },
     "execution_count": 24,
     "metadata": {},
     "output_type": "execute_result"
    },
    {
     "data": {
      "image/png": "[encoded data removed]",
      "text/plain": [
       "<Figure size 1008x504 with 1 Axes>"
      ]
     },
     "metadata": {},
     "output_type": "display_data"
    }
   ],
   "source": [
    "sns.set_style('whitegrid')\n",
    "plt.figure(figsize=(14,7))\n",
    "sns.barplot(x=df['Genre'],y=df['Rating'])"
   ]
  },
  {
   "cell_type": "markdown",
   "metadata": {},
   "source": [
    "we can have a clear idea of the rating, Biography as high Rating compared to other Genres."
   ]
  },
  {
   "cell_type": "code",
   "execution_count": 25,
   "metadata": {},
   "outputs": [
    {
     "data": {
      "text/plain": [
       "<AxesSubplot:xlabel='Genre', ylabel='Votes'>"
      ]
     },
     "execution_count": 25,
     "metadata": {},
     "output_type": "execute_result"
    },
    {
     "data": {
      "image/png": "[encoded data removed]",
      "text/plain": [
       "<Figure size 1008x504 with 1 Axes>"
      ]
     },
     "metadata": {},
     "output_type": "display_data"
    }
   ],
   "source": [
    "sns.set_style('whitegrid')\n",
    "plt.figure(figsize=(14,7))\n",
    "sns.barplot(x=df['Genre'],y=df['Votes'])"
   ]
  },
  {
   "cell_type": "markdown",
   "metadata": {},
   "source": [
    "we can observe that Action movies are preferred concerning votes compared to other Genres, Such as Comedy, Drama, Animation, Biography, Horror, Crime, and Adventure."
   ]
  },
  {
   "cell_type": "code",
   "execution_count": 26,
   "metadata": {},
   "outputs": [
    {
     "data": {
      "text/plain": [
       "<AxesSubplot:xlabel='Genre', ylabel='Rank'>"
      ]
     },
     "execution_count": 26,
     "metadata": {},
     "output_type": "execute_result"
    },
    {
     "data": {
      "image/png": "[encoded data removed]",
      "text/plain": [
       "<Figure size 1008x504 with 1 Axes>"
      ]
     },
     "metadata": {},
     "output_type": "display_data"
    }
   ],
   "source": [
    "sns.set_style('whitegrid')\n",
    "plt.figure(figsize=(14,7))\n",
    "sns.barplot(x=df['Genre'],y=df['Rank'])"
   ]
  },
  {
   "cell_type": "markdown",
   "metadata": {},
   "source": [
    "we can have a precise analysis, i.e., with respect to Rank, we can visualize that Comedy and Horror Movies were preferred."
   ]
  },
  {
   "cell_type": "code",
   "execution_count": 27,
   "metadata": {},
   "outputs": [
    {
     "data": {
      "text/html": [
       "<div>\n",
       "<style scoped>\n",
       "    .dataframe tbody tr th:only-of-type {\n",
       "        vertical-align: middle;\n",
       "    }\n",
       "\n",
       "    .dataframe tbody tr th {\n",
       "        vertical-align: top;\n",
       "    }\n",
       "\n",
       "    .dataframe thead th {\n",
       "        text-align: right;\n",
       "    }\n",
       "</style>\n",
       "<table border=\"1\" class=\"dataframe\">\n",
       "  <thead>\n",
       "    <tr style=\"text-align: right;\">\n",
       "      <th></th>\n",
       "      <th>Rank</th>\n",
       "      <th>Title</th>\n",
       "      <th>Description</th>\n",
       "      <th>Runtime</th>\n",
       "      <th>Genre</th>\n",
       "      <th>Rating</th>\n",
       "      <th>Metascore</th>\n",
       "      <th>Votes</th>\n",
       "      <th>Gross_Earning_in_Mil</th>\n",
       "      <th>Director</th>\n",
       "      <th>Actor</th>\n",
       "    </tr>\n",
       "  </thead>\n",
       "  <tbody>\n",
       "    <tr>\n",
       "      <th>1</th>\n",
       "      <td>22</td>\n",
       "      <td>Kimi no na wa.</td>\n",
       "      <td>Two strangers find themselves linked in a ...</td>\n",
       "      <td>106</td>\n",
       "      <td>Animation</td>\n",
       "      <td>8.4</td>\n",
       "      <td>57.0</td>\n",
       "      <td>202020</td>\n",
       "      <td>5.02</td>\n",
       "      <td>Makoto Shinkai</td>\n",
       "      <td>Ryûnosuke Kamiki</td>\n",
       "    </tr>\n",
       "    <tr>\n",
       "      <th>2</th>\n",
       "      <td>19</td>\n",
       "      <td>Hacksaw Ridge</td>\n",
       "      <td>World War II American Army Medic Desmond T...</td>\n",
       "      <td>139</td>\n",
       "      <td>Biography</td>\n",
       "      <td>8.1</td>\n",
       "      <td>84.0</td>\n",
       "      <td>443202</td>\n",
       "      <td>67.21</td>\n",
       "      <td>Mel Gibson</td>\n",
       "      <td>Andrew Garfield</td>\n",
       "    </tr>\n",
       "    <tr>\n",
       "      <th>3</th>\n",
       "      <td>20</td>\n",
       "      <td>Ah-ga-ssi</td>\n",
       "      <td>A woman is hired as a handmaiden to a Japa...</td>\n",
       "      <td>145</td>\n",
       "      <td>Drama</td>\n",
       "      <td>8.1</td>\n",
       "      <td>82.0</td>\n",
       "      <td>117295</td>\n",
       "      <td>2.01</td>\n",
       "      <td>Chan-wook Park</td>\n",
       "      <td>Kim Min-hee</td>\n",
       "    </tr>\n",
       "    <tr>\n",
       "      <th>4</th>\n",
       "      <td>58</td>\n",
       "      <td>Koe no katachi</td>\n",
       "      <td>A young man is ostracized by his classmate...</td>\n",
       "      <td>130</td>\n",
       "      <td>Animation</td>\n",
       "      <td>8.1</td>\n",
       "      <td>78.0</td>\n",
       "      <td>51200</td>\n",
       "      <td>34.92</td>\n",
       "      <td>Naoko Yamada</td>\n",
       "      <td>Miyu Irino</td>\n",
       "    </tr>\n",
       "    <tr>\n",
       "      <th>5</th>\n",
       "      <td>14</td>\n",
       "      <td>Contratiempo</td>\n",
       "      <td>A successful entrepreneur accused of murde...</td>\n",
       "      <td>106</td>\n",
       "      <td>Crime</td>\n",
       "      <td>8.1</td>\n",
       "      <td>65.0</td>\n",
       "      <td>148015</td>\n",
       "      <td>532.10</td>\n",
       "      <td>Oriol Paulo</td>\n",
       "      <td>Mario Casas</td>\n",
       "    </tr>\n",
       "  </tbody>\n",
       "</table>\n",
       "</div>"
      ],
      "text/plain": [
       "   Rank           Title                                        Description  \\\n",
       "1    22  Kimi no na wa.      Two strangers find themselves linked in a ...   \n",
       "2    19   Hacksaw Ridge      World War II American Army Medic Desmond T...   \n",
       "3    20       Ah-ga-ssi      A woman is hired as a handmaiden to a Japa...   \n",
       "4    58  Koe no katachi      A young man is ostracized by his classmate...   \n",
       "5    14    Contratiempo      A successful entrepreneur accused of murde...   \n",
       "\n",
       "   Runtime      Genre  Rating  Metascore   Votes  Gross_Earning_in_Mil  \\\n",
       "1      106  Animation     8.4       57.0  202020                  5.02   \n",
       "2      139  Biography     8.1       84.0  443202                 67.21   \n",
       "3      145      Drama     8.1       82.0  117295                  2.01   \n",
       "4      130  Animation     8.1       78.0   51200                 34.92   \n",
       "5      106      Crime     8.1       65.0  148015                532.10   \n",
       "\n",
       "         Director             Actor  \n",
       "1  Makoto Shinkai  Ryûnosuke Kamiki  \n",
       "2      Mel Gibson   Andrew Garfield  \n",
       "3  Chan-wook Park       Kim Min-hee  \n",
       "4    Naoko Yamada        Miyu Irino  \n",
       "5     Oriol Paulo       Mario Casas  "
      ]
     },
     "execution_count": 27,
     "metadata": {},
     "output_type": "execute_result"
    }
   ],
   "source": [
    "df1=df.sort_values('Rating',ascending=[False]).head(5)\n",
    "df1.index=np.arange(1,6)\n",
    "df1"
   ]
  },
  {
   "cell_type": "markdown",
   "metadata": {},
   "source": [
    "Here we can have a clear idea that the best five movies were shown with respect to Rating."
   ]
  },
  {
   "cell_type": "code",
   "execution_count": 28,
   "metadata": {},
   "outputs": [
    {
     "data": {
      "text/html": [
       "<div>\n",
       "<style scoped>\n",
       "    .dataframe tbody tr th:only-of-type {\n",
       "        vertical-align: middle;\n",
       "    }\n",
       "\n",
       "    .dataframe tbody tr th {\n",
       "        vertical-align: top;\n",
       "    }\n",
       "\n",
       "    .dataframe thead th {\n",
       "        text-align: right;\n",
       "    }\n",
       "</style>\n",
       "<table border=\"1\" class=\"dataframe\">\n",
       "  <thead>\n",
       "    <tr style=\"text-align: right;\">\n",
       "      <th></th>\n",
       "      <th>Rank</th>\n",
       "      <th>Title</th>\n",
       "      <th>Description</th>\n",
       "      <th>Runtime</th>\n",
       "      <th>Genre</th>\n",
       "      <th>Rating</th>\n",
       "      <th>Metascore</th>\n",
       "      <th>Votes</th>\n",
       "      <th>Gross_Earning_in_Mil</th>\n",
       "      <th>Director</th>\n",
       "      <th>Actor</th>\n",
       "    </tr>\n",
       "  </thead>\n",
       "  <tbody>\n",
       "    <tr>\n",
       "      <th>1</th>\n",
       "      <td>30</td>\n",
       "      <td>Fantastic Beasts and Where to Find Them</td>\n",
       "      <td>The adventures of writer Newt Scamander in...</td>\n",
       "      <td>132</td>\n",
       "      <td>Adventure</td>\n",
       "      <td>7.3</td>\n",
       "      <td>99.0</td>\n",
       "      <td>414743</td>\n",
       "      <td>234.00</td>\n",
       "      <td>David Yates</td>\n",
       "      <td>Eddie Redmayne</td>\n",
       "    </tr>\n",
       "    <tr>\n",
       "      <th>2</th>\n",
       "      <td>24</td>\n",
       "      <td>Gods of Egypt</td>\n",
       "      <td>Mortal hero Bek teams with the god Horus i...</td>\n",
       "      <td>127</td>\n",
       "      <td>Action</td>\n",
       "      <td>5.4</td>\n",
       "      <td>96.0</td>\n",
       "      <td>107463</td>\n",
       "      <td>31.15</td>\n",
       "      <td>Alex Proyas</td>\n",
       "      <td>Brenton Thwaites</td>\n",
       "    </tr>\n",
       "    <tr>\n",
       "      <th>3</th>\n",
       "      <td>15</td>\n",
       "      <td>Rogue One</td>\n",
       "      <td>The daughter of an Imperial scientist join...</td>\n",
       "      <td>133</td>\n",
       "      <td>Action</td>\n",
       "      <td>7.8</td>\n",
       "      <td>94.0</td>\n",
       "      <td>562083</td>\n",
       "      <td>151.10</td>\n",
       "      <td>Gareth Edwards</td>\n",
       "      <td>Felicity Jones</td>\n",
       "    </tr>\n",
       "    <tr>\n",
       "      <th>4</th>\n",
       "      <td>96</td>\n",
       "      <td>Toni Erdmann</td>\n",
       "      <td>A practical joking father tries to reconne...</td>\n",
       "      <td>162</td>\n",
       "      <td>Comedy</td>\n",
       "      <td>7.4</td>\n",
       "      <td>93.0</td>\n",
       "      <td>44792</td>\n",
       "      <td>1.48</td>\n",
       "      <td>Maren Ade</td>\n",
       "      <td>Sandra Hüller</td>\n",
       "    </tr>\n",
       "    <tr>\n",
       "      <th>5</th>\n",
       "      <td>19</td>\n",
       "      <td>Hacksaw Ridge</td>\n",
       "      <td>World War II American Army Medic Desmond T...</td>\n",
       "      <td>139</td>\n",
       "      <td>Biography</td>\n",
       "      <td>8.1</td>\n",
       "      <td>84.0</td>\n",
       "      <td>443202</td>\n",
       "      <td>67.21</td>\n",
       "      <td>Mel Gibson</td>\n",
       "      <td>Andrew Garfield</td>\n",
       "    </tr>\n",
       "  </tbody>\n",
       "</table>\n",
       "</div>"
      ],
      "text/plain": [
       "   Rank                                    Title  \\\n",
       "1    30  Fantastic Beasts and Where to Find Them   \n",
       "2    24                            Gods of Egypt   \n",
       "3    15                                Rogue One   \n",
       "4    96                             Toni Erdmann   \n",
       "5    19                            Hacksaw Ridge   \n",
       "\n",
       "                                         Description  Runtime      Genre  \\\n",
       "1      The adventures of writer Newt Scamander in...      132  Adventure   \n",
       "2      Mortal hero Bek teams with the god Horus i...      127     Action   \n",
       "3      The daughter of an Imperial scientist join...      133     Action   \n",
       "4      A practical joking father tries to reconne...      162     Comedy   \n",
       "5      World War II American Army Medic Desmond T...      139  Biography   \n",
       "\n",
       "   Rating  Metascore   Votes  Gross_Earning_in_Mil        Director  \\\n",
       "1     7.3       99.0  414743                234.00     David Yates   \n",
       "2     5.4       96.0  107463                 31.15     Alex Proyas   \n",
       "3     7.8       94.0  562083                151.10  Gareth Edwards   \n",
       "4     7.4       93.0   44792                  1.48       Maren Ade   \n",
       "5     8.1       84.0  443202                 67.21      Mel Gibson   \n",
       "\n",
       "              Actor  \n",
       "1    Eddie Redmayne  \n",
       "2  Brenton Thwaites  \n",
       "3    Felicity Jones  \n",
       "4     Sandra Hüller  \n",
       "5   Andrew Garfield  "
      ]
     },
     "execution_count": 28,
     "metadata": {},
     "output_type": "execute_result"
    }
   ],
   "source": [
    "df1=df.sort_values('Metascore',ascending=[False]).head(5)\n",
    "df1.index=np.arange(1,6)\n",
    "df1"
   ]
  },
  {
   "cell_type": "markdown",
   "metadata": {},
   "source": [
    "With respect to Metascore, these were the top 5 best movies when compared to other films."
   ]
  },
  {
   "cell_type": "code",
   "execution_count": 29,
   "metadata": {},
   "outputs": [
    {
     "data": {
      "text/html": [
       "<div>\n",
       "<style scoped>\n",
       "    .dataframe tbody tr th:only-of-type {\n",
       "        vertical-align: middle;\n",
       "    }\n",
       "\n",
       "    .dataframe tbody tr th {\n",
       "        vertical-align: top;\n",
       "    }\n",
       "\n",
       "    .dataframe thead th {\n",
       "        text-align: right;\n",
       "    }\n",
       "</style>\n",
       "<table border=\"1\" class=\"dataframe\">\n",
       "  <thead>\n",
       "    <tr style=\"text-align: right;\">\n",
       "      <th></th>\n",
       "      <th>Rank</th>\n",
       "      <th>Title</th>\n",
       "      <th>Description</th>\n",
       "      <th>Runtime</th>\n",
       "      <th>Genre</th>\n",
       "      <th>Rating</th>\n",
       "      <th>Metascore</th>\n",
       "      <th>Votes</th>\n",
       "      <th>Gross_Earning_in_Mil</th>\n",
       "      <th>Director</th>\n",
       "      <th>Actor</th>\n",
       "    </tr>\n",
       "  </thead>\n",
       "  <tbody>\n",
       "    <tr>\n",
       "      <th>1</th>\n",
       "      <td>14</td>\n",
       "      <td>Contratiempo</td>\n",
       "      <td>A successful entrepreneur accused of murde...</td>\n",
       "      <td>106</td>\n",
       "      <td>Crime</td>\n",
       "      <td>8.1</td>\n",
       "      <td>65.0</td>\n",
       "      <td>148015</td>\n",
       "      <td>532.1</td>\n",
       "      <td>Oriol Paulo</td>\n",
       "      <td>Mario Casas</td>\n",
       "    </tr>\n",
       "    <tr>\n",
       "      <th>2</th>\n",
       "      <td>88</td>\n",
       "      <td>Colossal</td>\n",
       "      <td>Gloria is an out-of-work party girl forced...</td>\n",
       "      <td>109</td>\n",
       "      <td>Action</td>\n",
       "      <td>6.2</td>\n",
       "      <td>70.0</td>\n",
       "      <td>59702</td>\n",
       "      <td>486.3</td>\n",
       "      <td>Nacho Vigalondo</td>\n",
       "      <td>Anne Hathaway</td>\n",
       "    </tr>\n",
       "    <tr>\n",
       "      <th>3</th>\n",
       "      <td>3</td>\n",
       "      <td>Captain America: Civil War</td>\n",
       "      <td>Political involvement in the Avengers' aff...</td>\n",
       "      <td>147</td>\n",
       "      <td>Action</td>\n",
       "      <td>7.8</td>\n",
       "      <td>75.0</td>\n",
       "      <td>674499</td>\n",
       "      <td>408.0</td>\n",
       "      <td>Anthony Russo</td>\n",
       "      <td>Chris Evans</td>\n",
       "    </tr>\n",
       "    <tr>\n",
       "      <th>4</th>\n",
       "      <td>74</td>\n",
       "      <td>The Shallows</td>\n",
       "      <td>A mere 200 yards from shore, surfer Nancy ...</td>\n",
       "      <td>86</td>\n",
       "      <td>Action</td>\n",
       "      <td>6.3</td>\n",
       "      <td>59.0</td>\n",
       "      <td>121278</td>\n",
       "      <td>364.0</td>\n",
       "      <td>Jaume Collet-Serra</td>\n",
       "      <td>Blake Lively</td>\n",
       "    </tr>\n",
       "    <tr>\n",
       "      <th>5</th>\n",
       "      <td>5</td>\n",
       "      <td>Deadpool</td>\n",
       "      <td>A wisecracking mercenary gets experimented...</td>\n",
       "      <td>108</td>\n",
       "      <td>Action</td>\n",
       "      <td>8.0</td>\n",
       "      <td>65.0</td>\n",
       "      <td>912563</td>\n",
       "      <td>363.0</td>\n",
       "      <td>Tim Miller</td>\n",
       "      <td>Ryan Reynolds</td>\n",
       "    </tr>\n",
       "  </tbody>\n",
       "</table>\n",
       "</div>"
      ],
      "text/plain": [
       "   Rank                       Title  \\\n",
       "1    14                Contratiempo   \n",
       "2    88                    Colossal   \n",
       "3     3  Captain America: Civil War   \n",
       "4    74                The Shallows   \n",
       "5     5                    Deadpool   \n",
       "\n",
       "                                         Description  Runtime   Genre  Rating  \\\n",
       "1      A successful entrepreneur accused of murde...      106   Crime     8.1   \n",
       "2      Gloria is an out-of-work party girl forced...      109  Action     6.2   \n",
       "3      Political involvement in the Avengers' aff...      147  Action     7.8   \n",
       "4      A mere 200 yards from shore, surfer Nancy ...       86  Action     6.3   \n",
       "5      A wisecracking mercenary gets experimented...      108  Action     8.0   \n",
       "\n",
       "   Metascore   Votes  Gross_Earning_in_Mil            Director          Actor  \n",
       "1       65.0  148015                 532.1         Oriol Paulo    Mario Casas  \n",
       "2       70.0   59702                 486.3     Nacho Vigalondo  Anne Hathaway  \n",
       "3       75.0  674499                 408.0       Anthony Russo    Chris Evans  \n",
       "4       59.0  121278                 364.0  Jaume Collet-Serra   Blake Lively  \n",
       "5       65.0  912563                 363.0          Tim Miller  Ryan Reynolds  "
      ]
     },
     "execution_count": 29,
     "metadata": {},
     "output_type": "execute_result"
    }
   ],
   "source": [
    "df1=df.sort_values('Gross_Earning_in_Mil',ascending=[False]).head(5)\n",
    "df1.index=np.arange(1,6)\n",
    "df1"
   ]
  },
  {
   "cell_type": "markdown",
   "metadata": {},
   "source": [
    "This list of 5 movies has high earnings when compared to the other movies."
   ]
  },
  {
   "cell_type": "code",
   "execution_count": 31,
   "metadata": {},
   "outputs": [],
   "source": [
    "from sklearn.preprocessing import LabelEncoder\n",
    "from sklearn import preprocessing\n",
    "le = preprocessing.LabelEncoder()\n",
    "df.Actor = le.fit_transform(df.Actor)\n",
    "df.Director = le.fit_transform(df.Director)\n",
    "df.Genre = le.fit_transform(df.Genre)\n"
   ]
  },
  {
   "cell_type": "code",
   "execution_count": 32,
   "metadata": {},
   "outputs": [
    {
     "data": {
      "image/png": "[encoded data removed]",
      "text/plain": [
       "<Figure size 432x288 with 1 Axes>"
      ]
     },
     "metadata": {},
     "output_type": "display_data"
    }
   ],
   "source": [
    "x= df[[\"Genre\"]]\n",
    "y= df[[\"Rating\"]]\n",
    "from sklearn.model_selection import train_test_split  \n",
    "x_train, x_test, y_train, y_test= train_test_split(x, y, test_size= 1/3, random_state=0)  \n",
    "#Fitting the Simple Linear Regression model to the training dataset  \n",
    "from sklearn.linear_model import LinearRegression  \n",
    "regressor= LinearRegression()  \n",
    "regressor.fit(x_train, y_train) \n",
    "#Prediction of Test and Training set result  \n",
    "y_pred= regressor.predict(x_test)  \n",
    "x_pred= regressor.predict(x_train)\n",
    "import matplotlib.pyplot as mtp\n",
    "mtp.scatter(x_train, y_train, color=\"green\")   \n",
    "mtp.plot(x_train, x_pred, color=\"red\")    \n",
    "mtp.title(\"Genre Vs. Rating \")  \n",
    "mtp.xlabel(\"Genre\")  \n",
    "mtp.ylabel(\"Rating\")\n",
    "mtp.ylim(6.5,7.5)\n",
    "mtp.show()   "
   ]
  },
  {
   "cell_type": "markdown",
   "metadata": {},
   "source": [
    "we could conclude an Increasing linear relationship between Genre and Rating, which indicates a Moderate correlation between them."
   ]
  },
  {
   "cell_type": "code",
   "execution_count": 33,
   "metadata": {},
   "outputs": [
    {
     "data": {
      "image/png": "[encoded data removed]",
      "text/plain": [
       "<Figure size 432x288 with 1 Axes>"
      ]
     },
     "metadata": {},
     "output_type": "display_data"
    }
   ],
   "source": [
    "x= df[[\"Genre\"]]\n",
    "y= df[[\"Rank\"]]\n",
    "from sklearn.model_selection import train_test_split  \n",
    "x_train, x_test, y_train, y_test= train_test_split(x, y, test_size= 1/3, random_state=0)  \n",
    "#Fitting the Simple Linear Regression model to the training dataset  \n",
    "from sklearn.linear_model import LinearRegression  \n",
    "regressor= LinearRegression()  \n",
    "regressor.fit(x_train, y_train) \n",
    "#Prediction of Test and Training set result  \n",
    "y_pred= regressor.predict(x_test)  \n",
    "x_pred= regressor.predict(x_train)\n",
    "import matplotlib.pyplot as mtp\n",
    "mtp.scatter(x_train, y_train, color=\"green\")   \n",
    "mtp.plot(x_train, x_pred, color=\"red\")    \n",
    "mtp.title(\"Genre Vs. Rank\")  \n",
    "mtp.xlabel(\"Genre\")  \n",
    "mtp.ylabel(\"Rank\")\n",
    "mtp.ylim(40,60)\n",
    "mtp.show()   "
   ]
  },
  {
   "cell_type": "markdown",
   "metadata": {},
   "source": [
    "we could conclude an Increasing linear relationship between Genre and Rank, which indicates a Moderate correlation between them."
   ]
  },
  {
   "cell_type": "code",
   "execution_count": 34,
   "metadata": {},
   "outputs": [
    {
     "data": {
      "image/png": "[encoded data removed]",
      "text/plain": [
       "<Figure size 432x288 with 1 Axes>"
      ]
     },
     "metadata": {},
     "output_type": "display_data"
    }
   ],
   "source": [
    "x= df[[\"Genre\"]]\n",
    "y= df[[\"Runtime\"]]\n",
    "from sklearn.model_selection import train_test_split  \n",
    "x_train, x_test, y_train, y_test= train_test_split(x, y, test_size= 1/3, random_state=0)  \n",
    "#Fitting the Simple Linear Regression model to the training dataset  \n",
    "from sklearn.linear_model import LinearRegression  \n",
    "regressor= LinearRegression()  \n",
    "regressor.fit(x_train, y_train) \n",
    "#Prediction of Test and Training set result  \n",
    "y_pred= regressor.predict(x_test)  \n",
    "x_pred= regressor.predict(x_train)\n",
    "import matplotlib.pyplot as mtp\n",
    "mtp.scatter(x_train, y_train, color=\"green\")   \n",
    "mtp.plot(x_train, x_pred, color=\"red\")    \n",
    "mtp.title(\"Genre Vs. Runtime \")  \n",
    "mtp.xlabel(\"Genre\")  \n",
    "mtp.ylabel(\"Runtime\")\n",
    "mtp.ylim(110,120)\n",
    "mtp.show()   "
   ]
  },
  {
   "cell_type": "markdown",
   "metadata": {},
   "source": [
    "we could conclude that there is Decreasing linear relationship between Genre and Runtime, which indicates a negative correlation between them."
   ]
  },
  {
   "cell_type": "code",
   "execution_count": 35,
   "metadata": {},
   "outputs": [
    {
     "data": {
      "image/png": "[encoded data removed]",
      "text/plain": [
       "<Figure size 432x288 with 1 Axes>"
      ]
     },
     "metadata": {},
     "output_type": "display_data"
    }
   ],
   "source": [
    "x= df[[\"Genre\"]]\n",
    "y= df[[\"Metascore\"]]\n",
    "from sklearn.model_selection import train_test_split  \n",
    "x_train, x_test, y_train, y_test= train_test_split(x, y, test_size= 1/3, random_state=0)  \n",
    "#Fitting the Simple Linear Regression model to the training dataset  \n",
    "from sklearn.linear_model import LinearRegression  \n",
    "regressor= LinearRegression()  \n",
    "regressor.fit(x_train, y_train) \n",
    "#Prediction of Test and Training set result  \n",
    "y_pred= regressor.predict(x_test)  \n",
    "x_pred= regressor.predict(x_train)\n",
    "import matplotlib.pyplot as mtp\n",
    "mtp.scatter(x_train, y_train, color=\"green\")   \n",
    "mtp.plot(x_train, x_pred, color=\"red\")    \n",
    "mtp.title(\"Genre Vs. Metascore \")  \n",
    "mtp.xlabel(\"Genre\")  \n",
    "mtp.ylabel(\"Metascore\")\n",
    "mtp.ylim(50,70)\n",
    "mtp.show()   "
   ]
  },
  {
   "cell_type": "markdown",
   "metadata": {},
   "source": [
    "we could conclude an Increasing linear relationship between Genre and Metascore, which indicates a Moderate correlation between them."
   ]
  },
  {
   "cell_type": "code",
   "execution_count": 36,
   "metadata": {},
   "outputs": [
    {
     "data": {
      "image/png": "[encoded data removed]",
      "text/plain": [
       "<Figure size 432x288 with 1 Axes>"
      ]
     },
     "metadata": {},
     "output_type": "display_data"
    }
   ],
   "source": [
    "x= df[[\"Genre\"]]\n",
    "y= df[[\"Gross_Earning_in_Mil\"]]\n",
    "from sklearn.model_selection import train_test_split  \n",
    "x_train, x_test, y_train, y_test= train_test_split(x, y, test_size= 1/3, random_state=0)  \n",
    "#Fitting the Simple Linear Regression model to the training dataset  \n",
    "from sklearn.linear_model import LinearRegression  \n",
    "regressor= LinearRegression()  \n",
    "regressor.fit(x_train, y_train) \n",
    "#Prediction of Test and Training set result  \n",
    "y_pred= regressor.predict(x_test)  \n",
    "x_pred= regressor.predict(x_train)\n",
    "import matplotlib.pyplot as mtp\n",
    "mtp.scatter(x_train, y_train, color=\"green\")   \n",
    "mtp.plot(x_train, x_pred, color=\"red\")    \n",
    "mtp.title(\"Genre Vs. Gross Earnings \")  \n",
    "mtp.xlabel(\"Genre\")  \n",
    "mtp.ylabel(\"Gross Earnings\")\n",
    "mtp.ylim(50,110)\n",
    "mtp.show()   "
   ]
  },
  {
   "cell_type": "markdown",
   "metadata": {},
   "source": [
    "we could conclude that there is Decreasing linear relationship between Genre and Gross Earnings, which indicates a negative correlation between them."
   ]
  },
  {
   "cell_type": "code",
   "execution_count": 37,
   "metadata": {},
   "outputs": [
    {
     "data": {
      "image/png": "[encoded data removed]",
      "text/plain": [
       "<Figure size 432x288 with 1 Axes>"
      ]
     },
     "metadata": {},
     "output_type": "display_data"
    }
   ],
   "source": [
    "x= df[[\"Genre\"]]\n",
    "y= df[[\"Votes\"]]\n",
    "from sklearn.model_selection import train_test_split  \n",
    "x_train, x_test, y_train, y_test= train_test_split(x, y, test_size= 1/3, random_state=0)  \n",
    "#Fitting the Simple Linear Regression model to the training dataset  \n",
    "from sklearn.linear_model import LinearRegression  \n",
    "regressor= LinearRegression()  \n",
    "regressor.fit(x_train, y_train) \n",
    "#Prediction of Test and Training set result  \n",
    "y_pred= regressor.predict(x_test)  \n",
    "x_pred= regressor.predict(x_train)\n",
    "import matplotlib.pyplot as mtp\n",
    "mtp.scatter(x_train, y_train, color=\"green\")   \n",
    "mtp.plot(x_train, x_pred, color=\"red\")    \n",
    "mtp.title(\"Genre Vs. Votes \")  \n",
    "mtp.xlabel(\"Genre\")  \n",
    "mtp.ylabel(\"Votes\")\n",
    "mtp.ylim(50000,300000)\n",
    "mtp.show()   "
   ]
  },
  {
   "cell_type": "markdown",
   "metadata": {},
   "source": [
    "we could conclude that there is Decreasing linear relationship between Genre and Votes, which indicates a negative correlation between them."
   ]
  },
  {
   "cell_type": "code",
   "execution_count": 38,
   "metadata": {},
   "outputs": [
    {
     "data": {
      "text/plain": [
       "<seaborn.axisgrid.PairGrid at 0x1da4747fa90>"
      ]
     },
     "execution_count": 38,
     "metadata": {},
     "output_type": "execute_result"
    },
    {
     "data": {
      "image/png": "[encoded data removed]",
      "text/plain": [
       "<Figure size 581.625x540 with 12 Axes>"
      ]
     },
     "metadata": {},
     "output_type": "display_data"
    }
   ],
   "source": [
    "sns.pairplot(df, vars=[\"Rating\", \"Metascore\",\"Rank\"], hue = \"Genre\")"
   ]
  },
  {
   "cell_type": "raw",
   "metadata": {},
   "source": [
    "we can have a clear idea that Rating and Metascore's points are more in increasing order. \n",
    "With regard to Rating and Rank, the points are randomly scattered between the x-axis and y-axis.\n",
    "In the account of Metascore and Ranking, the points are scattered towards the center.\n"
   ]
  },
  {
   "cell_type": "code",
   "execution_count": 39,
   "metadata": {
    "scrolled": false
   },
   "outputs": [
    {
     "data": {
      "image/png": "[encoded data removed]",
      "text/plain": [
       "<Figure size 1008x504 with 2 Axes>"
      ]
     },
     "metadata": {},
     "output_type": "display_data"
    }
   ],
   "source": [
    "plt.figure(figsize=(14,7))\n",
    "cor=df.corr()\n",
    "sns.heatmap(cor, annot=True)\n",
    "plt.show()"
   ]
  },
  {
   "cell_type": "markdown",
   "metadata": {},
   "source": [
    "# Preprocessing"
   ]
  },
  {
   "cell_type": "code",
   "execution_count": 40,
   "metadata": {},
   "outputs": [
    {
     "data": {
      "text/html": [
       "<div>\n",
       "<style scoped>\n",
       "    .dataframe tbody tr th:only-of-type {\n",
       "        vertical-align: middle;\n",
       "    }\n",
       "\n",
       "    .dataframe tbody tr th {\n",
       "        vertical-align: top;\n",
       "    }\n",
       "\n",
       "    .dataframe thead th {\n",
       "        text-align: right;\n",
       "    }\n",
       "</style>\n",
       "<table border=\"1\" class=\"dataframe\">\n",
       "  <thead>\n",
       "    <tr style=\"text-align: right;\">\n",
       "      <th></th>\n",
       "      <th>Rank</th>\n",
       "      <th>Runtime</th>\n",
       "      <th>Rating</th>\n",
       "      <th>Metascore</th>\n",
       "      <th>Votes</th>\n",
       "      <th>Director</th>\n",
       "      <th>Actor</th>\n",
       "      <th>Gross_Earning_in_Mil</th>\n",
       "    </tr>\n",
       "  </thead>\n",
       "  <tbody>\n",
       "    <tr>\n",
       "      <th>0</th>\n",
       "      <td>1</td>\n",
       "      <td>152</td>\n",
       "      <td>6.4</td>\n",
       "      <td>44.0</td>\n",
       "      <td>640076</td>\n",
       "      <td>89</td>\n",
       "      <td>6</td>\n",
       "      <td>330.30</td>\n",
       "    </tr>\n",
       "    <tr>\n",
       "      <th>1</th>\n",
       "      <td>2</td>\n",
       "      <td>123</td>\n",
       "      <td>6.0</td>\n",
       "      <td>40.0</td>\n",
       "      <td>609928</td>\n",
       "      <td>19</td>\n",
       "      <td>81</td>\n",
       "      <td>325.10</td>\n",
       "    </tr>\n",
       "    <tr>\n",
       "      <th>2</th>\n",
       "      <td>3</td>\n",
       "      <td>147</td>\n",
       "      <td>7.8</td>\n",
       "      <td>75.0</td>\n",
       "      <td>674499</td>\n",
       "      <td>5</td>\n",
       "      <td>17</td>\n",
       "      <td>408.00</td>\n",
       "    </tr>\n",
       "    <tr>\n",
       "      <th>3</th>\n",
       "      <td>4</td>\n",
       "      <td>118</td>\n",
       "      <td>7.9</td>\n",
       "      <td>72.0</td>\n",
       "      <td>193920</td>\n",
       "      <td>54</td>\n",
       "      <td>80</td>\n",
       "      <td>5.88</td>\n",
       "    </tr>\n",
       "    <tr>\n",
       "      <th>4</th>\n",
       "      <td>5</td>\n",
       "      <td>108</td>\n",
       "      <td>8.0</td>\n",
       "      <td>65.0</td>\n",
       "      <td>912563</td>\n",
       "      <td>84</td>\n",
       "      <td>66</td>\n",
       "      <td>363.00</td>\n",
       "    </tr>\n",
       "    <tr>\n",
       "      <th>5</th>\n",
       "      <td>6</td>\n",
       "      <td>116</td>\n",
       "      <td>7.5</td>\n",
       "      <td>67.0</td>\n",
       "      <td>242575</td>\n",
       "      <td>86</td>\n",
       "      <td>1</td>\n",
       "      <td>10.64</td>\n",
       "    </tr>\n",
       "    <tr>\n",
       "      <th>6</th>\n",
       "      <td>7</td>\n",
       "      <td>115</td>\n",
       "      <td>7.5</td>\n",
       "      <td>72.0</td>\n",
       "      <td>608539</td>\n",
       "      <td>76</td>\n",
       "      <td>7</td>\n",
       "      <td>232.60</td>\n",
       "    </tr>\n",
       "    <tr>\n",
       "      <th>7</th>\n",
       "      <td>8</td>\n",
       "      <td>116</td>\n",
       "      <td>7.9</td>\n",
       "      <td>81.0</td>\n",
       "      <td>602623</td>\n",
       "      <td>21</td>\n",
       "      <td>1</td>\n",
       "      <td>100.50</td>\n",
       "    </tr>\n",
       "    <tr>\n",
       "      <th>8</th>\n",
       "      <td>9</td>\n",
       "      <td>107</td>\n",
       "      <td>7.6</td>\n",
       "      <td>81.0</td>\n",
       "      <td>277698</td>\n",
       "      <td>72</td>\n",
       "      <td>5</td>\n",
       "      <td>248.70</td>\n",
       "    </tr>\n",
       "    <tr>\n",
       "      <th>9</th>\n",
       "      <td>10</td>\n",
       "      <td>127</td>\n",
       "      <td>7.8</td>\n",
       "      <td>74.0</td>\n",
       "      <td>204022</td>\n",
       "      <td>82</td>\n",
       "      <td>75</td>\n",
       "      <td>169.60</td>\n",
       "    </tr>\n",
       "  </tbody>\n",
       "</table>\n",
       "</div>"
      ],
      "text/plain": [
       "   Rank  Runtime  Rating  Metascore   Votes  Director  Actor  \\\n",
       "0     1      152     6.4       44.0  640076        89      6   \n",
       "1     2      123     6.0       40.0  609928        19     81   \n",
       "2     3      147     7.8       75.0  674499         5     17   \n",
       "3     4      118     7.9       72.0  193920        54     80   \n",
       "4     5      108     8.0       65.0  912563        84     66   \n",
       "5     6      116     7.5       67.0  242575        86      1   \n",
       "6     7      115     7.5       72.0  608539        76      7   \n",
       "7     8      116     7.9       81.0  602623        21      1   \n",
       "8     9      107     7.6       81.0  277698        72      5   \n",
       "9    10      127     7.8       74.0  204022        82     75   \n",
       "\n",
       "   Gross_Earning_in_Mil  \n",
       "0                330.30  \n",
       "1                325.10  \n",
       "2                408.00  \n",
       "3                  5.88  \n",
       "4                363.00  \n",
       "5                 10.64  \n",
       "6                232.60  \n",
       "7                100.50  \n",
       "8                248.70  \n",
       "9                169.60  "
      ]
     },
     "execution_count": 40,
     "metadata": {},
     "output_type": "execute_result"
    }
   ],
   "source": [
    "x = df[[\"Rank\",\"Runtime\",\"Rating\",\"Metascore\",\"Votes\",\"Director\",\"Actor\",\"Gross_Earning_in_Mil\"]]\n",
    "x[0:10]"
   ]
  },
  {
   "cell_type": "code",
   "execution_count": 41,
   "metadata": {},
   "outputs": [
    {
     "data": {
      "text/plain": [
       "['Rank',\n",
       " 'Runtime',\n",
       " 'Rating',\n",
       " 'Metascore',\n",
       " 'Votes',\n",
       " 'Director',\n",
       " 'Actor',\n",
       " 'Gross_Earning_in_Mil']"
      ]
     },
     "execution_count": 41,
     "metadata": {},
     "output_type": "execute_result"
    }
   ],
   "source": [
    "numerical = [var for var in x.columns if x[var].dtype!='O']\n",
    "numerical"
   ]
  },
  {
   "cell_type": "code",
   "execution_count": 42,
   "metadata": {},
   "outputs": [],
   "source": [
    "y=df[[\"Genre\"]]"
   ]
  },
  {
   "cell_type": "code",
   "execution_count": 43,
   "metadata": {},
   "outputs": [
    {
     "data": {
      "text/html": [
       "<div>\n",
       "<style scoped>\n",
       "    .dataframe tbody tr th:only-of-type {\n",
       "        vertical-align: middle;\n",
       "    }\n",
       "\n",
       "    .dataframe tbody tr th {\n",
       "        vertical-align: top;\n",
       "    }\n",
       "\n",
       "    .dataframe thead th {\n",
       "        text-align: right;\n",
       "    }\n",
       "</style>\n",
       "<table border=\"1\" class=\"dataframe\">\n",
       "  <thead>\n",
       "    <tr style=\"text-align: right;\">\n",
       "      <th></th>\n",
       "      <th>Genre</th>\n",
       "    </tr>\n",
       "  </thead>\n",
       "  <tbody>\n",
       "    <tr>\n",
       "      <th>0</th>\n",
       "      <td>0</td>\n",
       "    </tr>\n",
       "    <tr>\n",
       "      <th>1</th>\n",
       "      <td>0</td>\n",
       "    </tr>\n",
       "    <tr>\n",
       "      <th>2</th>\n",
       "      <td>0</td>\n",
       "    </tr>\n",
       "    <tr>\n",
       "      <th>3</th>\n",
       "      <td>4</td>\n",
       "    </tr>\n",
       "    <tr>\n",
       "      <th>4</th>\n",
       "      <td>0</td>\n",
       "    </tr>\n",
       "  </tbody>\n",
       "</table>\n",
       "</div>"
      ],
      "text/plain": [
       "   Genre\n",
       "0      0\n",
       "1      0\n",
       "2      0\n",
       "3      4\n",
       "4      0"
      ]
     },
     "execution_count": 43,
     "metadata": {},
     "output_type": "execute_result"
    }
   ],
   "source": [
    "y.head()"
   ]
  },
  {
   "cell_type": "markdown",
   "metadata": {},
   "source": [
    "# Train and Test split"
   ]
  },
  {
   "cell_type": "code",
   "execution_count": 44,
   "metadata": {},
   "outputs": [],
   "source": [
    "from sklearn import model_selection\n",
    "x_train, x_test, y_train, y_test = model_selection.train_test_split(x, y, test_size=0.2, random_state=0)"
   ]
  },
  {
   "cell_type": "markdown",
   "metadata": {},
   "source": [
    "# KNN"
   ]
  },
  {
   "cell_type": "code",
   "execution_count": 46,
   "metadata": {},
   "outputs": [
    {
     "name": "stderr",
     "output_type": "stream",
     "text": [
      "C:\\Users\\DHARANIJA\\Anaconda3\\lib\\site-packages\\ipykernel_launcher.py:10: DataConversionWarning: A column-vector y was passed when a 1d array was expected. Please change the shape of y to (n_samples, ), for example using ravel().\n",
      "  # Remove the CWD from sys.path while we load stuff.\n"
     ]
    },
    {
     "name": "stdout",
     "output_type": "stream",
     "text": [
      "Accuracy: 0.47368421052631576\n",
      "[[8 0 0 0 2 0 0 0]\n",
      " [1 0 0 0 0 0 0 0]\n",
      " [1 0 0 0 0 0 0 0]\n",
      " [1 0 0 0 0 0 0 0]\n",
      " [0 0 0 0 1 0 0 1]\n",
      " [2 0 0 0 0 0 0 0]\n",
      " [1 0 0 0 0 0 0 1]\n",
      " [0 0 0 0 0 0 0 0]]\n",
      "              precision    recall  f1-score   support\n",
      "\n",
      "           0       0.57      0.80      0.67        10\n",
      "           1       0.00      0.00      0.00         1\n",
      "           2       0.00      0.00      0.00         1\n",
      "           3       0.00      0.00      0.00         1\n",
      "           4       0.33      0.50      0.40         2\n",
      "           5       0.00      0.00      0.00         2\n",
      "           6       0.00      0.00      0.00         2\n",
      "           7       0.00      0.00      0.00         0\n",
      "\n",
      "    accuracy                           0.47        19\n",
      "   macro avg       0.11      0.16      0.13        19\n",
      "weighted avg       0.34      0.47      0.39        19\n",
      "\n",
      "\n",
      "Execution Seconds: 0.5719664096832275\n"
     ]
    },
    {
     "name": "stderr",
     "output_type": "stream",
     "text": [
      "C:\\Users\\DHARANIJA\\Anaconda3\\lib\\site-packages\\sklearn\\metrics\\_classification.py:1221: UndefinedMetricWarning: Precision and F-score are ill-defined and being set to 0.0 in labels with no predicted samples. Use `zero_division` parameter to control this behavior.\n",
      "  _warn_prf(average, modifier, msg_start, len(result))\n",
      "C:\\Users\\DHARANIJA\\Anaconda3\\lib\\site-packages\\sklearn\\metrics\\_classification.py:1221: UndefinedMetricWarning: Recall and F-score are ill-defined and being set to 0.0 in labels with no true samples. Use `zero_division` parameter to control this behavior.\n",
      "  _warn_prf(average, modifier, msg_start, len(result))\n"
     ]
    }
   ],
   "source": [
    "from sklearn.metrics import accuracy_score\n",
    "from sklearn.metrics import confusion_matrix,classification_report\n",
    "from sklearn.metrics import classification_report\n",
    "from sklearn.metrics import roc_auc_score\n",
    "from sklearn.metrics import roc_curve\n",
    "import time\n",
    "from sklearn.neighbors import KNeighborsClassifier\n",
    "start = time.time()\n",
    "classifier = KNeighborsClassifier(n_neighbors=5)\n",
    "classifier.fit(x_train, y_train)\n",
    "y_pred = classifier.predict(x_test)\n",
    "print(\"Accuracy:\",accuracy_score(y_test, y_pred))\n",
    "print(confusion_matrix(y_test, y_pred))\n",
    "print(classification_report(y_test, y_pred))\n",
    "end = time.time()\n",
    "print(\"\\nExecution Seconds: {}\".format((end - start)))"
   ]
  },
  {
   "cell_type": "code",
   "execution_count": 47,
   "metadata": {},
   "outputs": [
    {
     "name": "stderr",
     "output_type": "stream",
     "text": [
      "C:\\Users\\DHARANIJA\\Anaconda3\\lib\\site-packages\\ipykernel_launcher.py:6: DataConversionWarning: A column-vector y was passed when a 1d array was expected. Please change the shape of y to (n_samples, ), for example using ravel().\n",
      "  \n",
      "C:\\Users\\DHARANIJA\\Anaconda3\\lib\\site-packages\\ipykernel_launcher.py:6: DataConversionWarning: A column-vector y was passed when a 1d array was expected. Please change the shape of y to (n_samples, ), for example using ravel().\n",
      "  \n",
      "C:\\Users\\DHARANIJA\\Anaconda3\\lib\\site-packages\\ipykernel_launcher.py:6: DataConversionWarning: A column-vector y was passed when a 1d array was expected. Please change the shape of y to (n_samples, ), for example using ravel().\n",
      "  \n",
      "C:\\Users\\DHARANIJA\\Anaconda3\\lib\\site-packages\\ipykernel_launcher.py:6: DataConversionWarning: A column-vector y was passed when a 1d array was expected. Please change the shape of y to (n_samples, ), for example using ravel().\n",
      "  \n",
      "C:\\Users\\DHARANIJA\\Anaconda3\\lib\\site-packages\\ipykernel_launcher.py:6: DataConversionWarning: A column-vector y was passed when a 1d array was expected. Please change the shape of y to (n_samples, ), for example using ravel().\n",
      "  \n",
      "C:\\Users\\DHARANIJA\\Anaconda3\\lib\\site-packages\\ipykernel_launcher.py:6: DataConversionWarning: A column-vector y was passed when a 1d array was expected. Please change the shape of y to (n_samples, ), for example using ravel().\n",
      "  \n",
      "C:\\Users\\DHARANIJA\\Anaconda3\\lib\\site-packages\\ipykernel_launcher.py:6: DataConversionWarning: A column-vector y was passed when a 1d array was expected. Please change the shape of y to (n_samples, ), for example using ravel().\n",
      "  \n",
      "C:\\Users\\DHARANIJA\\Anaconda3\\lib\\site-packages\\ipykernel_launcher.py:6: DataConversionWarning: A column-vector y was passed when a 1d array was expected. Please change the shape of y to (n_samples, ), for example using ravel().\n",
      "  \n"
     ]
    },
    {
     "data": {
      "image/png": "[encoded data removed]",
      "text/plain": [
       "<Figure size 432x288 with 1 Axes>"
      ]
     },
     "metadata": {},
     "output_type": "display_data"
    }
   ],
   "source": [
    "neighbors = np.arange(1, 9)\n",
    "train_accuracy = np.empty(len(neighbors))\n",
    "test_accuracy = np.empty(len(neighbors))\n",
    "for i, k in enumerate(neighbors):\n",
    "    knn = KNeighborsClassifier(n_neighbors=k)\n",
    "    knn.fit(x_train, y_train)\n",
    "      \n",
    "    # Compute traning and test data accuracy\n",
    "    train_accuracy[i] = knn.score(x_train, y_train)\n",
    "    test_accuracy[i] = knn.score(x_test, y_test)\n",
    "# Generate plot\n",
    "plt.plot(neighbors, test_accuracy, label = 'Testing dataset Accuracy')\n",
    "plt.plot(neighbors, train_accuracy, label = 'Training dataset Accuracy')\n",
    "  \n",
    "plt.legend()\n",
    "plt.xlabel('n_neighbors')\n",
    "plt.ylabel('Accuracy')\n",
    "plt.show()\n"
   ]
  },
  {
   "cell_type": "markdown",
   "metadata": {},
   "source": [
    "The value of Neighbors increases, the accuracy of the training data decreases, indicating that the model is not a good fit for the provided data."
   ]
  },
  {
   "cell_type": "markdown",
   "metadata": {},
   "source": [
    "# SVM"
   ]
  },
  {
   "cell_type": "code",
   "execution_count": 48,
   "metadata": {},
   "outputs": [
    {
     "name": "stdout",
     "output_type": "stream",
     "text": [
      "Accuracy: 0.5263157894736842\n",
      "[[10  0  0  0  0  0  0]\n",
      " [ 1  0  0  0  0  0  0]\n",
      " [ 1  0  0  0  0  0  0]\n",
      " [ 1  0  0  0  0  0  0]\n",
      " [ 2  0  0  0  0  0  0]\n",
      " [ 2  0  0  0  0  0  0]\n",
      " [ 2  0  0  0  0  0  0]]\n",
      "              precision    recall  f1-score   support\n",
      "\n",
      "           0       0.53      1.00      0.69        10\n",
      "           1       0.00      0.00      0.00         1\n",
      "           2       0.00      0.00      0.00         1\n",
      "           3       0.00      0.00      0.00         1\n",
      "           4       0.00      0.00      0.00         2\n",
      "           5       0.00      0.00      0.00         2\n",
      "           6       0.00      0.00      0.00         2\n",
      "\n",
      "    accuracy                           0.53        19\n",
      "   macro avg       0.08      0.14      0.10        19\n",
      "weighted avg       0.28      0.53      0.36        19\n",
      "\n",
      "\n",
      "Execution Seconds: 0.11899161338806152\n"
     ]
    },
    {
     "name": "stderr",
     "output_type": "stream",
     "text": [
      "C:\\Users\\DHARANIJA\\Anaconda3\\lib\\site-packages\\sklearn\\utils\\validation.py:72: DataConversionWarning: A column-vector y was passed when a 1d array was expected. Please change the shape of y to (n_samples, ), for example using ravel().\n",
      "  return f(**kwargs)\n",
      "C:\\Users\\DHARANIJA\\Anaconda3\\lib\\site-packages\\sklearn\\metrics\\_classification.py:1221: UndefinedMetricWarning: Precision and F-score are ill-defined and being set to 0.0 in labels with no predicted samples. Use `zero_division` parameter to control this behavior.\n",
      "  _warn_prf(average, modifier, msg_start, len(result))\n"
     ]
    }
   ],
   "source": [
    "from sklearn.svm import SVC\n",
    "start = time.time()\n",
    "clf=SVC(kernel='sigmoid',C=0.05, gamma=1,probability=True)\n",
    "clf.fit(x_train, y_train)\n",
    "pred = clf.predict(x_test)\n",
    "print(\"Accuracy:\",accuracy_score(y_test, pred))\n",
    "cm = confusion_matrix(y_test, pred)\n",
    "print(cm)\n",
    "print(classification_report(y_test, pred))\n",
    "\n",
    "end = time.time()\n",
    "print(\"\\nExecution Seconds: {}\".format((end - start)))"
   ]
  },
  {
   "cell_type": "raw",
   "metadata": {},
   "source": [
    "The accuracy of the model by setting Kernel as sigmoid, C=0.5, and Gamma as 1is 0.5(53%).\n",
    "Out of 19 test data observations, nine observations are missed classified.\n",
    "F1 score is 0.69, and the execution time of random forest is less than 1 seconds.\n"
   ]
  },
  {
   "cell_type": "markdown",
   "metadata": {},
   "source": [
    "# Random Forest"
   ]
  },
  {
   "cell_type": "code",
   "execution_count": 51,
   "metadata": {},
   "outputs": [
    {
     "name": "stdout",
     "output_type": "stream",
     "text": [
      "[[10  0  0  0  0  0  0]\n",
      " [ 1  0  0  0  0  0  0]\n",
      " [ 1  0  0  0  0  0  0]\n",
      " [ 1  0  0  0  0  0  0]\n",
      " [ 1  0  0  0  1  0  0]\n",
      " [ 2  0  0  0  0  0  0]\n",
      " [ 2  0  0  0  0  0  0]]\n",
      "Accuracy0.5789473684210527\n",
      "              precision    recall  f1-score   support\n",
      "\n",
      "           0       0.53      1.00      0.69        10\n",
      "           1       0.00      0.00      0.00         1\n",
      "           2       0.00      0.00      0.00         1\n",
      "           3       0.00      0.00      0.00         1\n",
      "           4       0.00      0.00      0.00         2\n",
      "           5       0.00      0.00      0.00         2\n",
      "           6       0.00      0.00      0.00         2\n",
      "\n",
      "    accuracy                           0.53        19\n",
      "   macro avg       0.08      0.14      0.10        19\n",
      "weighted avg       0.28      0.53      0.36        19\n",
      "\n",
      "\n",
      "Execution Seconds: 0.010984659194946289\n"
     ]
    },
    {
     "name": "stderr",
     "output_type": "stream",
     "text": [
      "C:\\Users\\DHARANIJA\\Anaconda3\\lib\\site-packages\\ipykernel_launcher.py:4: DataConversionWarning: A column-vector y was passed when a 1d array was expected. Please change the shape of y to (n_samples,), for example using ravel().\n",
      "  after removing the cwd from sys.path.\n",
      "C:\\Users\\DHARANIJA\\Anaconda3\\lib\\site-packages\\sklearn\\metrics\\_classification.py:1221: UndefinedMetricWarning: Precision and F-score are ill-defined and being set to 0.0 in labels with no predicted samples. Use `zero_division` parameter to control this behavior.\n",
      "  _warn_prf(average, modifier, msg_start, len(result))\n"
     ]
    }
   ],
   "source": [
    "##Training and making Predictions\n",
    "from sklearn.ensemble import RandomForestClassifier\n",
    "classifier = RandomForestClassifier(max_depth=2, random_state=0)\n",
    "classifier.fit(x_train, y_train)\n",
    "y_pred = classifier.predict(x_test)\n",
    "##Evaluating the Performance\n",
    "from sklearn.metrics import confusion_matrix\n",
    "from sklearn.metrics import accuracy_score\n",
    "start=time.time()\n",
    "cm = confusion_matrix(y_test, y_pred)\n",
    "print(cm)\n",
    "print('Accuracy' + str(accuracy_score(y_test, y_pred)))\n",
    "print(classification_report(y_test, pred))\n",
    "\n",
    "end = time.time()\n",
    "print(\"\\nExecution Seconds: {}\".format((end - start)))"
   ]
  },
  {
   "cell_type": "raw",
   "metadata": {},
   "source": [
    "The model's accuracy by setting the number of trees to 500 is 0.58(58%).\n",
    "Out of 19 test data observations, eight observations are missed classified.\n",
    "F1 score is 0.69, and the execution time of random forest is less than 1 second.\n"
   ]
  },
  {
   "cell_type": "code",
   "execution_count": null,
   "metadata": {},
   "outputs": [],
   "source": []
  },
  {
   "cell_type": "code",
   "execution_count": null,
   "metadata": {},
   "outputs": [],
   "source": []
  }
 ],
 "metadata": {
  "kernelspec": {
   "display_name": "Python 3",
   "language": "python",
   "name": "python3"
  },
  "language_info": {
   "codemirror_mode": {
    "name": "ipython",
    "version": 3
   },
   "file_extension": ".py",
   "mimetype": "text/x-python",
   "name": "python",
   "nbconvert_exporter": "python",
   "pygments_lexer": "ipython3",
   "version": "3.6.5"
  }
 },
 "nbformat": 4,
 "nbformat_minor": 4
}
